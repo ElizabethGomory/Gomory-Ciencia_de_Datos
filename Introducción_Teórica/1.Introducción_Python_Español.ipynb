{
  "cells": [
    {
      "cell_type": "markdown",
      "metadata": {
        "id": "nDYPEdF2KW74"
      },
      "source": [
        "# **Apuntes de Introducción a Python**"
      ]
    },
    {
      "cell_type": "markdown",
      "metadata": {
        "id": "lQE9dsvNHqBQ"
      },
      "source": [
        "El siguiente documento fue creado con el único propósito de crear mi apunte personal, de fácil comprensión, para introducirme en el mundo de la programación con el uso del lenguaje Python. Vale Aclarar que este archivo puede usarse en cualquier IDE o en el mismo programa de Python, ya que no varían los scripts, pero sí las facilidades y comodidades que ofrecen las distintas plataformas como : google.colaboratory, Jupyter, VisualStudio Code, etc.\n",
        "Espero que mi colaboración, sea del agrado para quienes recién comienzan en este mundo y, sobre todo, para aquellos que no les es fácil entender otros idiomas en los que se encuentran la mayor cantidad de tutoriales al respecto (inglés, alemán, sueco)\n",
        "\n",
        "**by Analía Elizabeth Gomory**\n",
        "\n",
        "* ae.gomory@gmail.com\n",
        "\n",
        "* http://www.linkedin.com/in/elizabeth-gomory-9240b1217\n",
        "\n",
        "* https://ae-gomory.itch.io\n",
        "\n",
        "* https://github.com/ElizabethGomory\n",
        "\n",
        "* https://www.credly.com/users/analia-gomory\n",
        "\n",
        "* https://orcid.org/0009-0003-0498-7658"
      ]
    },
    {
      "cell_type": "markdown",
      "metadata": {},
      "source": [
        "## **Entradas y salidas de la terminal**"
      ]
    },
    {
      "cell_type": "code",
      "execution_count": null,
      "metadata": {},
      "outputs": [],
      "source": [
        "#Entrada desde la terminal. Al ejecutar nos aparecerá un cuadro a rellenar\n",
        "nombre = input(\"¿Cuál es tu nombre? \")\n",
        "\n",
        "#Salida, imprime en la terminal todo lo que se encuentre indicado entre los paréntesis \"()\"\n",
        "print(f\"Hola, {nombre}!\")  # Formato con f-string\n",
        "\n",
        "# Escribir en archivo\n",
        "with open(\"archivo.txt\", \"w\") as f:\n",
        "    f.write(\"Hola mundo\\nOtra línea\")\n",
        "\n",
        "# Leer archivo sin importar ninguna librería externa (Pandas)\n",
        "with open(\"archivo.txt\", \"r\") as f:\n",
        "    contenido = f.read()\n",
        "    print(contenido)"
      ]
    },
    {
      "cell_type": "markdown",
      "metadata": {
        "id": "KvroPrRal5xp"
      },
      "source": [
        "## **Variables**\n",
        "\n",
        "Obtenemos una variable al asignarle a un nombre, frase, letra o número (este último no es muy recomendado, más adelante lo entenderán), un valor o conjunto de valores. Esta variable que creamos, nos permite crear fórmulas o llamados a elementos guardados en las mismas, en largas líneas de código definidas en una sola variable, en este caso, a modo de ejemplo utilizaremos letras del abecedario para indicar las variables con funciones básicas de python."
      ]
    },
    {
      "cell_type": "code",
      "execution_count": 1,
      "metadata": {
        "colab": {
          "base_uri": "https://localhost:8080/"
        },
        "id": "O3B2JJgll5xu",
        "outputId": "369f18a8-6e77-4a38-b852-785d8b089b9a"
      },
      "outputs": [
        {
          "name": "stdout",
          "output_type": "stream",
          "text": [
            "15\n"
          ]
        }
      ],
      "source": [
        "# Variable que contiene un elemento del conjunto de números enteros (int).\n",
        "a = 15\n",
        "\n",
        "# imprimimos la variable \"a\"\n",
        "print(a)"
      ]
    },
    {
      "cell_type": "code",
      "execution_count": 2,
      "metadata": {
        "colab": {
          "base_uri": "https://localhost:8080/"
        },
        "id": "rR83U5pnl5xw",
        "outputId": "f0a4880c-2c80-4626-efa9-8635d3a4f218"
      },
      "outputs": [
        {
          "data": {
            "text/plain": [
              "int"
            ]
          },
          "execution_count": 2,
          "metadata": {},
          "output_type": "execute_result"
        }
      ],
      "source": [
        "# Imprimir el tipo de dato de la/s variable/s anteriormente creada, en este caso, sólo \"a\".\n",
        "type(a)"
      ]
    },
    {
      "cell_type": "code",
      "execution_count": 3,
      "metadata": {
        "colab": {
          "base_uri": "https://localhost:8080/"
        },
        "id": "vNnbrPbGl5xx",
        "outputId": "f8b87b02-2793-4e7b-d444-b5976bb60c5b"
      },
      "outputs": [
        {
          "name": "stdout",
          "output_type": "stream",
          "text": [
            "15.3\n"
          ]
        }
      ],
      "source": [
        "# Creamos la Variable que contiene un número decimal (float) e imprimimos el valor de la variable.\n",
        "\n",
        "b = 15.3\n",
        "print(b)"
      ]
    },
    {
      "cell_type": "code",
      "execution_count": 4,
      "metadata": {
        "colab": {
          "base_uri": "https://localhost:8080/"
        },
        "id": "ug5wfbagl5xy",
        "outputId": "504eae91-7f22-4b46-e9f0-b9df133f8cfa"
      },
      "outputs": [
        {
          "data": {
            "text/plain": [
              "float"
            ]
          },
          "execution_count": 4,
          "metadata": {},
          "output_type": "execute_result"
        }
      ],
      "source": [
        "type(b)"
      ]
    },
    {
      "cell_type": "code",
      "execution_count": 5,
      "metadata": {
        "id": "_3hGZ9BKl5xy"
      },
      "outputs": [],
      "source": [
        "# Variable que contiene una cadena de caracteres o string (str)\n",
        "c = 'Argentina'\n",
        "d = '14'"
      ]
    },
    {
      "cell_type": "code",
      "execution_count": 6,
      "metadata": {
        "colab": {
          "base_uri": "https://localhost:8080/"
        },
        "id": "ysfNJAVcl5xy",
        "outputId": "3f0cf530-ffa0-4f94-8faf-029e3633b24f"
      },
      "outputs": [
        {
          "name": "stdout",
          "output_type": "stream",
          "text": [
            "Argentina 14\n"
          ]
        },
        {
          "data": {
            "text/plain": [
              "str"
            ]
          },
          "execution_count": 6,
          "metadata": {},
          "output_type": "execute_result"
        }
      ],
      "source": [
        "# Imprimir los tipos de datos de las variables anteriormente creadas\n",
        "print(c,d)\n",
        "\n",
        "#type(c) # Comprobar type(d) para verificar que también es str por estar entre comillas simples (' ')\n",
        "type(d)"
      ]
    },
    {
      "cell_type": "markdown",
      "metadata": {},
      "source": [
        "# **Estructuras de Control**"
      ]
    },
    {
      "cell_type": "markdown",
      "metadata": {},
      "source": [
        "### **Convertir tipos de datos** (casting)"
      ]
    },
    {
      "cell_type": "code",
      "execution_count": null,
      "metadata": {},
      "outputs": [
        {
          "name": "stdout",
          "output_type": "stream",
          "text": [
            "Ingresa tu edad38\n",
            "38.0\n"
          ]
        }
      ],
      "source": [
        "edad = float(input('Ingresa tu edad'))\n",
        "print(edad)"
      ]
    },
    {
      "cell_type": "code",
      "execution_count": null,
      "metadata": {},
      "outputs": [
        {
          "data": {
            "text/plain": [
              "float"
            ]
          },
          "metadata": {},
          "output_type": "display_data"
        }
      ],
      "source": [
        "type(edad)"
      ]
    },
    {
      "cell_type": "code",
      "execution_count": null,
      "metadata": {},
      "outputs": [
        {
          "data": {
            "text/plain": [
              "114.0"
            ]
          },
          "metadata": {},
          "output_type": "display_data"
        }
      ],
      "source": [
        "(edad) * 3\n"
      ]
    },
    {
      "cell_type": "markdown",
      "metadata": {},
      "source": [
        "### **Condicionales if, elif, else**"
      ]
    },
    {
      "cell_type": "code",
      "execution_count": null,
      "metadata": {},
      "outputs": [
        {
          "name": "stdout",
          "output_type": "stream",
          "text": [
            "Ingrese un número 38\n",
            "El número es mayor a cero\n"
          ]
        }
      ],
      "source": [
        "# Comparando valor ingresado\n",
        "a = int(input('Ingrese un número '))\n",
        "if (a < 0):\n",
        "    print('El número es menor a cero')\n",
        "elif (a > 0):\n",
        "    print('El número es mayor a cero')\n",
        "else:\n",
        "      print('El número es igual a cero')"
      ]
    },
    {
      "cell_type": "code",
      "execution_count": null,
      "metadata": {},
      "outputs": [
        {
          "name": "stdout",
          "output_type": "stream",
          "text": [
            "a y b son de tipos de dato diferentes\n"
          ]
        }
      ],
      "source": [
        "# Comparando tipo de datos\n",
        "a = 10\n",
        "b = 'pintura'\n",
        "if (type(a) == type(b)):\n",
        "    print('a y b son del mismo tipo de dato')\n",
        "else:\n",
        "    print('a y b son de tipos de dato diferentes')"
      ]
    },
    {
      "cell_type": "markdown",
      "metadata": {},
      "source": [
        "### **Ciclos for y while**"
      ]
    },
    {
      "cell_type": "code",
      "execution_count": null,
      "metadata": {},
      "outputs": [
        {
          "name": "stdout",
          "output_type": "stream",
          "text": [
            "El número  1  es impar\n",
            "El número  2  es par\n",
            "El número  3  es impar\n",
            "El número  4  es par\n",
            "El número  5  es impar\n",
            "El número  6  es par\n",
            "El número  7  es impar\n",
            "El número  8  es par\n",
            "El número  9  es impar\n",
            "El número  10  es par\n",
            "El número  11  es impar\n",
            "El número  12  es par\n",
            "El número  13  es impar\n",
            "El número  14  es par\n",
            "El número  15  es impar\n",
            "El número  16  es par\n",
            "El número  17  es impar\n",
            "El número  18  es par\n",
            "El número  19  es impar\n",
            "El número  20  es par\n"
          ]
        }
      ],
      "source": [
        "## Comprobar si números son pares o impares\n",
        "for i in range(1, 21):\n",
        "    if i % 2 == 0:\n",
        "        print('El número ',i, ' es par')\n",
        "    else:\n",
        "        print('El número ',i, ' es impar')"
      ]
    },
    {
      "cell_type": "code",
      "execution_count": null,
      "metadata": {},
      "outputs": [
        {
          "name": "stdout",
          "output_type": "stream",
          "text": [
            "El numero 1 es impar\n",
            "El numero 2 es par\n",
            "El numero 3 es impar\n",
            "El numero 4 es par\n",
            "El numero 5 es impar\n",
            "El numero 6 es par\n",
            "El numero 7 es impar\n",
            "El numero 8 es par\n",
            "El numero 9 es impar\n",
            "El numero 10 es par\n",
            "El numero 11 es impar\n",
            "El numero 12 es par\n",
            "El numero 13 es impar\n",
            "El numero 14 es par\n",
            "El numero 15 es impar\n",
            "El numero 16 es par\n",
            "El numero 17 es impar\n",
            "El numero 18 es par\n",
            "El numero 19 es impar\n",
            "El numero 20 es par\n"
          ]
        }
      ],
      "source": [
        "# El mismo ejemplo anterior, pero resuelto con un ciclo while\n",
        "i = 1\n",
        "while (i <= 20):\n",
        "    if (i % 2 == 0):\n",
        "        print('El numero' ,i, 'es par')\n",
        "    else:\n",
        "        print('El numero' ,i, 'es impar')\n",
        "    i = i + 1"
      ]
    },
    {
      "cell_type": "markdown",
      "metadata": {},
      "source": [
        "* Sentencias break y continue\n"
      ]
    },
    {
      "cell_type": "code",
      "execution_count": null,
      "metadata": {},
      "outputs": [
        {
          "name": "stdout",
          "output_type": "stream",
          "text": [
            "P\n",
            "y\n",
            "t\n",
            "Se encontró la h\n"
          ]
        }
      ],
      "source": [
        "# break en ciclo for\n",
        "\n",
        "cadena = 'Python'\n",
        "for letra in cadena:\n",
        "    if letra == 'h':\n",
        "        print(\"Se encontró la h\")\n",
        "        break\n",
        "    print(letra)\n"
      ]
    },
    {
      "cell_type": "code",
      "execution_count": null,
      "metadata": {},
      "outputs": [
        {
          "name": "stdout",
          "output_type": "stream",
          "text": [
            "4\n",
            "3\n",
            "2\n",
            "1\n",
            "0\n",
            "Fin del bucle\n"
          ]
        }
      ],
      "source": [
        "# break en ciclo while\n",
        "\n",
        "x = 5\n",
        "while x > 0:\n",
        "    x -= 1 # x = x - 1\n",
        "    print(x)\n",
        "    if x == 0:\n",
        "        break\n",
        "print(\"Fin del bucle\")\n"
      ]
    },
    {
      "cell_type": "code",
      "execution_count": null,
      "metadata": {},
      "outputs": [
        {
          "name": "stdout",
          "output_type": "stream",
          "text": [
            "y\n",
            "t\n",
            "h\n",
            "o\n",
            "n\n"
          ]
        }
      ],
      "source": [
        "# continue\n",
        "cadena = 'Python'\n",
        "for letra in cadena:\n",
        "    if letra == 'P':\n",
        "        continue\n",
        "    print(letra)"
      ]
    },
    {
      "cell_type": "markdown",
      "metadata": {
        "id": "DO5N9mWgl5xz"
      },
      "source": [
        "## **Operaciones Básicas** \n",
        "\n",
        "Para comenzar, crearemos las variables con las que trabajaremos. Luego, realizaremos operaciones con el uso de las variables. Para visualizar cada operación aritmética, imprimiremos sus resultado haciendo uso de 'print( )'."
      ]
    },
    {
      "cell_type": "markdown",
      "metadata": {
        "id": "pF15QCl6l5xz"
      },
      "source": [
        "### **Aritméticas**\n"
      ]
    },
    {
      "cell_type": "code",
      "execution_count": 7,
      "metadata": {
        "colab": {
          "base_uri": "https://localhost:8080/"
        },
        "id": "eX4soHZUl5x0",
        "outputId": "ce4d008c-b11f-4872-fe43-5180a8ea13b0"
      },
      "outputs": [
        {
          "name": "stdout",
          "output_type": "stream",
          "text": [
            "35\n"
          ]
        }
      ],
      "source": [
        "\n",
        "var1 = 15\n",
        "var2 = 20\n",
        "var3 = 30\n",
        "\n",
        "suma = var1 + var2\n",
        "print(suma)"
      ]
    },
    {
      "cell_type": "code",
      "execution_count": 8,
      "metadata": {
        "colab": {
          "base_uri": "https://localhost:8080/"
        },
        "id": "eX4sIuNQl5x0",
        "outputId": "be0df55b-5a15-409d-bf6b-9a1b6f604087"
      },
      "outputs": [
        {
          "name": "stdout",
          "output_type": "stream",
          "text": [
            "10\n"
          ]
        }
      ],
      "source": [
        "resta = var3 - var2\n",
        "print(resta)"
      ]
    },
    {
      "cell_type": "code",
      "execution_count": 9,
      "metadata": {
        "colab": {
          "base_uri": "https://localhost:8080/"
        },
        "id": "YM-b99n2l5x0",
        "outputId": "8ca257b1-740f-4a14-8455-be07211803c6"
      },
      "outputs": [
        {
          "name": "stdout",
          "output_type": "stream",
          "text": [
            "300\n"
          ]
        }
      ],
      "source": [
        "multi = var1 * var2\n",
        "print(multi)"
      ]
    },
    {
      "cell_type": "code",
      "execution_count": 10,
      "metadata": {
        "colab": {
          "base_uri": "https://localhost:8080/"
        },
        "id": "REoOATQYl5x1",
        "outputId": "31fb0414-cffd-4520-9cb1-0860f817b6dc"
      },
      "outputs": [
        {
          "name": "stdout",
          "output_type": "stream",
          "text": [
            "1.5\n",
            "1\n"
          ]
        }
      ],
      "source": [
        "# división (cociente)\n",
        "div = var3 / var2\n",
        "print(div)\n",
        "# división (parte entera)\n",
        "div2 = var3 // var2\n",
        "print(div2)"
      ]
    },
    {
      "cell_type": "code",
      "execution_count": 11,
      "metadata": {
        "colab": {
          "base_uri": "https://localhost:8080/"
        },
        "id": "1CJJ-bQHGQvj",
        "outputId": "9dcf1a09-3c6e-466e-9d19-17abfb6297d2"
      },
      "outputs": [
        {
          "name": "stdout",
          "output_type": "stream",
          "text": [
            "9\n"
          ]
        }
      ],
      "source": [
        "suma = 4+5\n",
        "print(suma)"
      ]
    },
    {
      "cell_type": "code",
      "execution_count": 12,
      "metadata": {
        "colab": {
          "base_uri": "https://localhost:8080/"
        },
        "id": "uOEWcphol5x1",
        "outputId": "2691fd29-7d86-4886-c223-f7a79585594e"
      },
      "outputs": [
        {
          "name": "stdout",
          "output_type": "stream",
          "text": [
            "10\n"
          ]
        }
      ],
      "source": [
        "# Obtener resto\n",
        "resto = var3 % var2 # (30 módulo 20 = 10)\n",
        "print(resto)"
      ]
    },
    {
      "cell_type": "markdown",
      "metadata": {
        "id": "6-0GofoKl5x1"
      },
      "source": [
        "### **Relacionales**"
      ]
    },
    {
      "cell_type": "code",
      "execution_count": 13,
      "metadata": {
        "id": "flXtCndGQBnw"
      },
      "outputs": [],
      "source": [
        "var1 = 15\n",
        "var2 = 20\n",
        "var3 = 30"
      ]
    },
    {
      "cell_type": "code",
      "execution_count": 14,
      "metadata": {
        "colab": {
          "base_uri": "https://localhost:8080/"
        },
        "id": "fO_Mkv6pl5x2",
        "outputId": "a8005926-f8dd-4bc9-b6a7-12e080584c1c"
      },
      "outputs": [
        {
          "data": {
            "text/plain": [
              "False"
            ]
          },
          "execution_count": 14,
          "metadata": {},
          "output_type": "execute_result"
        }
      ],
      "source": [
        "(var1==var2)"
      ]
    },
    {
      "cell_type": "code",
      "execution_count": 15,
      "metadata": {
        "colab": {
          "base_uri": "https://localhost:8080/"
        },
        "id": "DEbdAvHfl5x2",
        "outputId": "3c28aff8-c3e6-4f47-9567-e18b62e83cff"
      },
      "outputs": [
        {
          "data": {
            "text/plain": [
              "True"
            ]
          },
          "execution_count": 15,
          "metadata": {},
          "output_type": "execute_result"
        }
      ],
      "source": [
        "var1!=var2"
      ]
    },
    {
      "cell_type": "code",
      "execution_count": 16,
      "metadata": {
        "colab": {
          "base_uri": "https://localhost:8080/"
        },
        "id": "3yKO_PXTl5x2",
        "outputId": "a26c1738-4afe-40ee-df1e-2f8000aad135"
      },
      "outputs": [
        {
          "data": {
            "text/plain": [
              "False"
            ]
          },
          "execution_count": 16,
          "metadata": {},
          "output_type": "execute_result"
        }
      ],
      "source": [
        "var1>var2"
      ]
    },
    {
      "cell_type": "code",
      "execution_count": 17,
      "metadata": {
        "colab": {
          "base_uri": "https://localhost:8080/"
        },
        "id": "_FdnwcOul5x2",
        "outputId": "d34524fa-74a0-4c92-e197-b8a16efee584"
      },
      "outputs": [
        {
          "data": {
            "text/plain": [
              "True"
            ]
          },
          "execution_count": 17,
          "metadata": {},
          "output_type": "execute_result"
        }
      ],
      "source": [
        "var3>=var2"
      ]
    },
    {
      "cell_type": "markdown",
      "metadata": {
        "id": "vwg1vpPxl5x2"
      },
      "source": [
        "### **De asignación**"
      ]
    },
    {
      "cell_type": "code",
      "execution_count": 18,
      "metadata": {
        "colab": {
          "base_uri": "https://localhost:8080/"
        },
        "id": "r-g0aiWol5x3",
        "outputId": "74163e06-c919-4504-e7ee-3f5c41f3cf8a"
      },
      "outputs": [
        {
          "name": "stdout",
          "output_type": "stream",
          "text": [
            "4\n"
          ]
        }
      ],
      "source": [
        "x=2\n",
        "x+=2 #Es lo mismo que x = x + 2\n",
        "print(x)"
      ]
    },
    {
      "cell_type": "markdown",
      "metadata": {
        "id": "ncbz4SOal5x3"
      },
      "source": [
        "### **Operaciones con Strings (uso de texto)**"
      ]
    },
    {
      "cell_type": "code",
      "execution_count": 19,
      "metadata": {
        "colab": {
          "base_uri": "https://localhost:8080/"
        },
        "id": "jymUW9w_l5x3",
        "outputId": "bfa65a64-165e-4237-c2b0-f88f70aef550"
      },
      "outputs": [
        {
          "name": "stdout",
          "output_type": "stream",
          "text": [
            "Hola Mundo\n"
          ]
        }
      ],
      "source": [
        "# Concatenación\n",
        "a = 'Hola '\n",
        "b = 'Mundo'\n",
        "c= a + b\n",
        "print(c)"
      ]
    },
    {
      "cell_type": "code",
      "execution_count": 20,
      "metadata": {
        "colab": {
          "base_uri": "https://localhost:8080/"
        },
        "id": "dmOuWxall5x3",
        "outputId": "e77cccd6-e1fb-4e42-9142-66be0a543a94"
      },
      "outputs": [
        {
          "name": "stdout",
          "output_type": "stream",
          "text": [
            "Hola Hola Hola \n"
          ]
        }
      ],
      "source": [
        "# Multiplicación\n",
        "frase = a * 3\n",
        "print(frase)"
      ]
    },
    {
      "cell_type": "markdown",
      "metadata": {
        "id": "51sjG73Cl5x3"
      },
      "source": [
        "### **Operaciones lógicas**"
      ]
    },
    {
      "cell_type": "code",
      "execution_count": 21,
      "metadata": {
        "id": "kOa2b0FXl5x3"
      },
      "outputs": [],
      "source": [
        "var1 = 10\n",
        "var2 = 20\n",
        "var3 = 30"
      ]
    },
    {
      "cell_type": "code",
      "execution_count": 22,
      "metadata": {
        "colab": {
          "base_uri": "https://localhost:8080/"
        },
        "id": "5H0nQAK-l5x4",
        "outputId": "ababede7-9379-4fed-d2ad-2a854185304b"
      },
      "outputs": [
        {
          "data": {
            "text/plain": [
              "True"
            ]
          },
          "execution_count": 22,
          "metadata": {},
          "output_type": "execute_result"
        }
      ],
      "source": [
        "var1 > 0 and var2 <100"
      ]
    },
    {
      "cell_type": "code",
      "execution_count": 23,
      "metadata": {
        "colab": {
          "base_uri": "https://localhost:8080/"
        },
        "id": "uFuQIkGhl5x4",
        "outputId": "7036c59e-dcb6-4eeb-c343-a9bc04020dd1"
      },
      "outputs": [
        {
          "data": {
            "text/plain": [
              "True"
            ]
          },
          "execution_count": 23,
          "metadata": {},
          "output_type": "execute_result"
        }
      ],
      "source": [
        "var1 > 0 or var2 >100"
      ]
    },
    {
      "cell_type": "markdown",
      "metadata": {},
      "source": [
        "# **Funciones**"
      ]
    },
    {
      "cell_type": "markdown",
      "metadata": {},
      "source": [
        "Las funciones nos permitiran agrupar instrucciones bajo un mismo nombre, lo que nos facilita la reutilización del código y su organización. En Python, las funciones se definen usando la palabra clave `def`, seguida del nombre de la función y paréntesis (que pueden incluir parámetros).\n",
        "\n",
        "### Sintaxis básica:\n",
        "\n",
        "```python\n",
        "def nombre_funcion():\n",
        "    # instrucciones\n",
        "```\n",
        "\n",
        "### Con parámetros y retorno:\n",
        "\n",
        "```python\n",
        "def sumar(a, b):\n",
        "    resultado = a + b\n",
        "    return resultado\n",
        "```\n",
        "\n",
        "Al llamar la función con `sumar(3, 4)`, obtendremos como resultado `7`.\n",
        "\n",
        "También podemos definir funciones con valores por defecto:\n",
        "\n",
        "```python\n",
        "def saludar(nombre=\"amigo\"):\n",
        "    print(f\"Hola, {nombre}!\")\n",
        "```"
      ]
    },
    {
      "cell_type": "code",
      "execution_count": 3,
      "metadata": {},
      "outputs": [
        {
          "name": "stdout",
          "output_type": "stream",
          "text": [
            "¡Bienvenido al mundo de Python!\n",
            "El resultado de la multiplicación es: 42\n",
            "Hola, amigo!\n",
            "Hola, Analía!\n"
          ]
        }
      ],
      "source": [
        "# Ejemplo básico de una función sin parámetros\n",
        "def bienvenida():\n",
        "    print(\"¡Bienvenido al mundo de Python!\")\n",
        "\n",
        "bienvenida()\n",
        "\n",
        "# Función con parámetros y retorno\n",
        "def multiplicar(x, y):\n",
        "    return x * y\n",
        "\n",
        "resultado = multiplicar(6, 7)\n",
        "print(\"El resultado de la multiplicación es:\", resultado)\n",
        "\n",
        "# Función con valor por defecto\n",
        "def saludar(nombre=\"amigo\"):\n",
        "    print(f\"Hola, {nombre}!\")\n",
        "\n",
        "saludar()\n",
        "saludar(\"Analía\")"
      ]
    },
    {
      "cell_type": "markdown",
      "metadata": {},
      "source": [
        "# **Estructura de Datos**"
      ]
    },
    {
      "cell_type": "markdown",
      "metadata": {},
      "source": [
        "### **Listas**"
      ]
    },
    {
      "cell_type": "markdown",
      "metadata": {},
      "source": [
        "Es importante tener en cuenta la siguiente definición: Una **Lista** puede contener diferentes tipos de datos (int, str,float), y **Es Mutable**, es decir, se puede modificar."
      ]
    },
    {
      "cell_type": "code",
      "execution_count": null,
      "metadata": {},
      "outputs": [],
      "source": [
        "# Crear una lista\n",
        "frutas = [\"manzana\", \"banana\", \"naranja\"]\n",
        "print(frutas)\n",
        "\n",
        "# Agregar un elemento\n",
        "frutas.append(\"uva\")\n",
        "\n",
        "# Eliminar un elemento\n",
        "frutas.remove(\"banana\")\n",
        "\n",
        "# Acceder a un elemento\n",
        "print(frutas[0])\n",
        "\n",
        "# Recorrer una lista\n",
        "for fruta in frutas:\n",
        "    print(fruta)"
      ]
    },
    {
      "cell_type": "markdown",
      "metadata": {},
      "source": [
        "### **Tuplas**"
      ]
    },
    {
      "cell_type": "markdown",
      "metadata": {},
      "source": [
        "A diferencia de las **Listas**, las **tuplas Son Inmutables**, ideales para datos que no deben cambiar. Por ello, más adelante cuando trabajamos con dataframes, los archivos ideales vendrán con el formato de tuplas, por lo que es importante comenzar por lo básico para entender cómo trabajar con ellas - con el uso de librerías externas - y cuáles son sus propiedades básicas."
      ]
    },
    {
      "cell_type": "code",
      "execution_count": 1,
      "metadata": {},
      "outputs": [
        {
          "name": "stdout",
          "output_type": "stream",
          "text": [
            "20\n"
          ]
        }
      ],
      "source": [
        "# Crear una tupla\n",
        "coordenadas = (10, 20)\n",
        "\n",
        "# Acceder a elementos\n",
        "print(coordenadas[1])\n",
        "\n",
        "# No se puede modificar: coordenadas[0] = 5"
      ]
    },
    {
      "cell_type": "markdown",
      "metadata": {},
      "source": [
        "### **Conjuntos** (Set)"
      ]
    },
    {
      "cell_type": "markdown",
      "metadata": {},
      "source": [
        "Son estructuras no ordenadas, que no permiten elementos duplicados."
      ]
    },
    {
      "cell_type": "code",
      "execution_count": null,
      "metadata": {},
      "outputs": [],
      "source": [
        "# Crear un conjunto\n",
        "numeros = {1, 2, 3, 3, 4}\n",
        "print(numeros)  # El 3 se muestra una sola vez\n",
        "\n",
        "# Agregar elemento\n",
        "numeros.add(5)\n",
        "\n",
        "# Eliminar elemento\n",
        "numeros.remove(2)"
      ]
    },
    {
      "cell_type": "markdown",
      "metadata": {},
      "source": [
        "### **Diccionarios** (Dict)"
      ]
    },
    {
      "cell_type": "markdown",
      "metadata": {},
      "source": [
        "Nos permiten almacenar pares de **clave-valor**. Siempre Van Entre LLAVES **\"{}\"**"
      ]
    },
    {
      "cell_type": "code",
      "execution_count": null,
      "metadata": {},
      "outputs": [],
      "source": [
        "# Crear un diccionario:\n",
        "# nombre_Variable = {clave:valor , clave: valor...} ó nombre_Variable = {clave:valores}\n",
        "persona = {\"nombre\": \"Ana\", \"edad\": 30}\n",
        "\n",
        "# Acceder a un valor\n",
        "print(persona[\"nombre\"])\n",
        "\n",
        "# Agregar o modificar\n",
        "persona[\"edad\"] = 31\n",
        "persona[\"ciudad\"] = \"Buenos Aires\"\n",
        "\n",
        "# Iterar\n",
        "for clave, valor in persona.items():\n",
        "    print(clave, \":\", valor)\n"
      ]
    },
    {
      "cell_type": "markdown",
      "metadata": {},
      "source": [
        "### **Iteración**"
      ]
    },
    {
      "cell_type": "code",
      "execution_count": null,
      "metadata": {},
      "outputs": [],
      "source": [
        "for clave, valor in persona.items():\n",
        "    print(clave, \":\", valor)"
      ]
    },
    {
      "cell_type": "markdown",
      "metadata": {},
      "source": [
        "# **Manejo de Errores**"
      ]
    },
    {
      "cell_type": "markdown",
      "metadata": {},
      "source": [
        "**try - except - finally**\n",
        "\n",
        "Estas funciones sirven para manejar errores sin que el programa se detenga. \n",
        "\n",
        "**`Usarlas en ese orden lógico`** permiten que la ejecución no genere errores en algún momento. \n",
        "\n",
        "A lo que me refiero, por ejemplo, en un caso de definición con condicionales ¿pára qué marearte en la rebeldía de usar elif primero si no mencionaste un if antes? el sentido lógico nos dice marcá las condiciones, el camino, para llegar, entonces, a un objetivo: *`if`* salís a correr todos los días y *`elif`* comés sano, *`else`* posdés llegar a ser un atleta.\n"
      ]
    },
    {
      "cell_type": "code",
      "execution_count": null,
      "metadata": {},
      "outputs": [],
      "source": [
        "try:\n",
        "    numero = int(input(\"Ingrese un número: \"))\n",
        "    division = 10 / numero\n",
        "except ZeroDivisionError:\n",
        "    print(\"No se puede dividir por cero.\")\n",
        "except ValueError:\n",
        "    print(\"Debe ingresar un número entero.\")\n",
        "finally:\n",
        "    print(\"Fin del programa.\")"
      ]
    },
    {
      "cell_type": "markdown",
      "metadata": {},
      "source": [
        "# **Comprensión de Listas**"
      ]
    },
    {
      "cell_type": "code",
      "execution_count": 2,
      "metadata": {},
      "outputs": [
        {
          "name": "stdout",
          "output_type": "stream",
          "text": [
            "cuadrados:  [0, 1, 4, 9, 16, 25, 36, 49, 64, 81]\n",
            "pares:  [0, 2, 4, 6, 8, 10, 12, 14, 16, 18]\n"
          ]
        }
      ],
      "source": [
        "# Lista de cuadrados\n",
        "cuadrados = [x**2 for x in range(10)]\n",
        "print(\"cuadrados: \", cuadrados)\n",
        "\n",
        "# Lista con condición\n",
        "pares = [x for x in range(20) if x % 2 == 0]\n",
        "print(\"pares: \", pares)"
      ]
    },
    {
      "cell_type": "markdown",
      "metadata": {},
      "source": [
        "# **Módulos y Librerías**"
      ]
    },
    {
      "cell_type": "markdown",
      "metadata": {},
      "source": [
        "En esta sección, a modo de curiosidad, les dejo una de las librerías más utilizadas y un ejemplo de uso útil de conocer. Pero en la segunda librería voy a extenderme, ya que es un apunte que me sirvió para estudiar y recordar las propiedades fundamentales para trabajar en el procesamiento de datos.\n",
        "\n",
        "Cabe recordar que para trabajar con estas librerías externas de python, primero, debemos descargarlas, desde la aplicación de cmd:/, (Windows PowerShell, en mi caso), vamos a escribir en la ventana de la terminal: `pip install tal_librería`\n"
      ]
    },
    {
      "cell_type": "markdown",
      "metadata": {},
      "source": [
        "* **Math**"
      ]
    },
    {
      "cell_type": "code",
      "execution_count": null,
      "metadata": {},
      "outputs": [],
      "source": [
        "import math\n",
        "from random import randint\n",
        "from datetime import datetime\n",
        "\n",
        "# Uso de math\n",
        "print(math.sqrt(16))  # raíz cuadrada\n",
        "\n",
        "# Uso de random\n",
        "print(randint(1, 10))  # número aleatorio\n",
        "\n",
        "# Uso de datetime\n",
        "print(datetime.now())  # fecha y hora actual\n"
      ]
    },
    {
      "cell_type": "markdown",
      "metadata": {},
      "source": [
        "* **Arrays y Dimensiones (con NumPy)**"
      ]
    },
    {
      "cell_type": "markdown",
      "metadata": {},
      "source": [
        "* Creación de Array"
      ]
    },
    {
      "cell_type": "code",
      "execution_count": null,
      "metadata": {},
      "outputs": [],
      "source": [
        "#Importar librería NumPy\n",
        "import numpy as np\n",
        "\n",
        "# Array de una dimensión (vector)\n",
        "a = np.array([1, 2, 3, 4])\n",
        "print(a)\n",
        "\n",
        "# Array de dos dimensiones (matriz)\n",
        "b = np.array([[1, 2], [3, 4]])\n",
        "print(b)\n",
        "\n",
        "# Array de tres dimensiones (matriz)\n",
        "e = np.array([[1, 2, 3], [4, 5, 6], [7, 8, 9]])\n",
        "print(b)\n",
        "\n",
        "# Array de ceros y unos\n",
        "ceros = np.zeros((2, 3))\n",
        "unos = np.ones((3, 2))\n",
        "print(ceros)\n",
        "print(unos)\n",
        "\n",
        "# Array con números del 0 al 9\n",
        "rango = np.arange(10)\n",
        "print(rango)\n",
        "\n",
        " # Matriz identidad\n",
        "identidad = np.eye(3)\n",
        "print(identidad)"
      ]
    },
    {
      "cell_type": "markdown",
      "metadata": {},
      "source": [
        "* Dimensiones y forma"
      ]
    },
    {
      "cell_type": "code",
      "execution_count": null,
      "metadata": {},
      "outputs": [],
      "source": [
        "print(a.ndim)      # Número de dimensiones\n",
        "print(b.shape)     # Forma (filas, columnas)\n",
        "print(b.size)      # Total de elementos"
      ]
    },
    {
      "cell_type": "markdown",
      "metadata": {},
      "source": [
        "* Operaciones básicas con arrays"
      ]
    },
    {
      "cell_type": "code",
      "execution_count": null,
      "metadata": {},
      "outputs": [],
      "source": [
        "x = np.array([1, 2, 3])\n",
        "y = np.array([4, 5, 6])\n",
        "\n",
        "# Suma elemento a elemento\n",
        "print(x + y)\n",
        "\n",
        "# Producto elemento a elemento\n",
        "print(x * y)\n",
        "\n",
        "# Producto matriz\n",
        "m1 = np.array([[1, 2], [3, 4]])\n",
        "m2 = np.array([[2, 0], [1, 2]])\n",
        "print(np.dot(m1, m2))"
      ]
    },
    {
      "cell_type": "markdown",
      "metadata": {},
      "source": [
        "* Indexado y slicing"
      ]
    },
    {
      "cell_type": "code",
      "execution_count": null,
      "metadata": {},
      "outputs": [],
      "source": [
        "arr = np.array([[10, 20, 30], [40, 50, 60]])\n",
        "\n",
        "# Acceder a un elemento\n",
        "print(arr[0, 1])  # 20\n",
        "\n",
        "# Slicing: sub-array\n",
        "print(arr[:, 1])  # columna 1 de todas las filas"
      ]
    },
    {
      "cell_type": "markdown",
      "metadata": {},
      "source": [
        "* Cambiar forma y aplanar"
      ]
    },
    {
      "cell_type": "code",
      "execution_count": null,
      "metadata": {},
      "outputs": [],
      "source": [
        "# Cambiar forma\n",
        "original = np.array([1, 2, 3, 4, 5, 6])\n",
        "nuevo = original.reshape((2, 3))\n",
        "print(nuevo)\n",
        "\n",
        "# Aplanar un array 2D a 1D\n",
        "print(nuevo.flatten())"
      ]
    },
    {
      "cell_type": "markdown",
      "metadata": {
        "id": "KI51o07_pQxB"
      },
      "source": [
        "# **Cierre**"
      ]
    },
    {
      "cell_type": "markdown",
      "metadata": {
        "id": "fvCW92Y1m0oZ"
      },
      "source": [
        "Por hoy, hemos llegado al final, espero que mi colaboración sea del agrado de ustedes. Si tienen dudas sobre introducción a Python para desarrollos en Ciencia de Datos, o simplemente quisieran algo más completo porque no terminan de entender estas sentencias, no duden en consultar y proximamente subiré un nuevo proyecto resolviendo aquellas consultas.\n",
        "\n",
        "\n",
        "by Analía Elizabeth Gomory\n",
        "\n",
        "ae.gomory@gmail.com\n",
        "\n",
        "http://www.linkedin.com/in/elizabeth-gomory-9240b1217\n",
        "\n",
        "https://ae-gomory.itch.io\n",
        "\n",
        "https://github.com/ElizabethGomory\n",
        "\n",
        "https://www.credly.com/users/analia-gomory\n",
        "\n",
        "https://orcid.org/0009-0003-0498-7658"
      ]
    }
  ],
  "metadata": {
    "colab": {
      "provenance": [],
      "toc_visible": true
    },
    "kernelspec": {
      "display_name": "Python 3",
      "language": "python",
      "name": "python3"
    },
    "language_info": {
      "codemirror_mode": {
        "name": "ipython",
        "version": 3
      },
      "file_extension": ".py",
      "mimetype": "text/x-python",
      "name": "python",
      "nbconvert_exporter": "python",
      "pygments_lexer": "ipython3",
      "version": "3.12.4"
    },
    "vscode": {
      "interpreter": {
        "hash": "f56aa691f439f5bc56991d1db0f0857f86fa41b806955ee7384316217c0c160e"
      }
    }
  },
  "nbformat": 4,
  "nbformat_minor": 0
}
